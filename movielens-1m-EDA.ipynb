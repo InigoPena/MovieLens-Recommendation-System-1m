{
 "cells": [
  {
   "cell_type": "markdown",
   "metadata": {},
   "source": [
    "# **Movie Recomendation System with MovieLen**\n",
    "### *Iñigo Peña*"
   ]
  },
  {
   "cell_type": "markdown",
   "metadata": {},
   "source": [
    "## Importing Dependencies"
   ]
  },
  {
   "cell_type": "code",
   "execution_count": 241,
   "metadata": {},
   "outputs": [],
   "source": [
    "import numpy as np\n",
    "import matplotlib.pyplot as plt\n",
    "import pandas as pd\n",
    "import seaborn as sns"
   ]
  },
  {
   "cell_type": "markdown",
   "metadata": {},
   "source": [
    "# **Exploratory Data Analysis**"
   ]
  },
  {
   "cell_type": "code",
   "execution_count": 242,
   "metadata": {},
   "outputs": [
    {
     "data": {
      "text/html": [
       "<div>\n",
       "<style scoped>\n",
       "    .dataframe tbody tr th:only-of-type {\n",
       "        vertical-align: middle;\n",
       "    }\n",
       "\n",
       "    .dataframe tbody tr th {\n",
       "        vertical-align: top;\n",
       "    }\n",
       "\n",
       "    .dataframe thead th {\n",
       "        text-align: right;\n",
       "    }\n",
       "</style>\n",
       "<table border=\"1\" class=\"dataframe\">\n",
       "  <thead>\n",
       "    <tr style=\"text-align: right;\">\n",
       "      <th></th>\n",
       "      <th>UserID</th>\n",
       "      <th>MovieID</th>\n",
       "      <th>Rating</th>\n",
       "      <th>Timestamp</th>\n",
       "    </tr>\n",
       "  </thead>\n",
       "  <tbody>\n",
       "    <tr>\n",
       "      <th>0</th>\n",
       "      <td>1</td>\n",
       "      <td>1193</td>\n",
       "      <td>5</td>\n",
       "      <td>978300760</td>\n",
       "    </tr>\n",
       "    <tr>\n",
       "      <th>1</th>\n",
       "      <td>1</td>\n",
       "      <td>661</td>\n",
       "      <td>3</td>\n",
       "      <td>978302109</td>\n",
       "    </tr>\n",
       "    <tr>\n",
       "      <th>2</th>\n",
       "      <td>1</td>\n",
       "      <td>914</td>\n",
       "      <td>3</td>\n",
       "      <td>978301968</td>\n",
       "    </tr>\n",
       "    <tr>\n",
       "      <th>3</th>\n",
       "      <td>1</td>\n",
       "      <td>3408</td>\n",
       "      <td>4</td>\n",
       "      <td>978300275</td>\n",
       "    </tr>\n",
       "    <tr>\n",
       "      <th>4</th>\n",
       "      <td>1</td>\n",
       "      <td>2355</td>\n",
       "      <td>5</td>\n",
       "      <td>978824291</td>\n",
       "    </tr>\n",
       "  </tbody>\n",
       "</table>\n",
       "</div>"
      ],
      "text/plain": [
       "   UserID  MovieID  Rating  Timestamp\n",
       "0       1     1193       5  978300760\n",
       "1       1      661       3  978302109\n",
       "2       1      914       3  978301968\n",
       "3       1     3408       4  978300275\n",
       "4       1     2355       5  978824291"
      ]
     },
     "execution_count": 242,
     "metadata": {},
     "output_type": "execute_result"
    }
   ],
   "source": [
    "#Rating data\n",
    "ratings = pd.read_csv('ml-1m/ratings.dat', sep='::', engine='python', names=['UserID', 'MovieID', 'Rating', 'Timestamp'])\n",
    "ratings.head()"
   ]
  },
  {
   "cell_type": "code",
   "execution_count": 243,
   "metadata": {},
   "outputs": [
    {
     "data": {
      "text/html": [
       "<div>\n",
       "<style scoped>\n",
       "    .dataframe tbody tr th:only-of-type {\n",
       "        vertical-align: middle;\n",
       "    }\n",
       "\n",
       "    .dataframe tbody tr th {\n",
       "        vertical-align: top;\n",
       "    }\n",
       "\n",
       "    .dataframe thead th {\n",
       "        text-align: right;\n",
       "    }\n",
       "</style>\n",
       "<table border=\"1\" class=\"dataframe\">\n",
       "  <thead>\n",
       "    <tr style=\"text-align: right;\">\n",
       "      <th></th>\n",
       "      <th>UserID</th>\n",
       "      <th>Gender</th>\n",
       "      <th>Age</th>\n",
       "      <th>Occupation</th>\n",
       "      <th>Zip-code</th>\n",
       "    </tr>\n",
       "  </thead>\n",
       "  <tbody>\n",
       "    <tr>\n",
       "      <th>0</th>\n",
       "      <td>1</td>\n",
       "      <td>F</td>\n",
       "      <td>1</td>\n",
       "      <td>10</td>\n",
       "      <td>48067</td>\n",
       "    </tr>\n",
       "    <tr>\n",
       "      <th>1</th>\n",
       "      <td>2</td>\n",
       "      <td>M</td>\n",
       "      <td>56</td>\n",
       "      <td>16</td>\n",
       "      <td>70072</td>\n",
       "    </tr>\n",
       "    <tr>\n",
       "      <th>2</th>\n",
       "      <td>3</td>\n",
       "      <td>M</td>\n",
       "      <td>25</td>\n",
       "      <td>15</td>\n",
       "      <td>55117</td>\n",
       "    </tr>\n",
       "    <tr>\n",
       "      <th>3</th>\n",
       "      <td>4</td>\n",
       "      <td>M</td>\n",
       "      <td>45</td>\n",
       "      <td>7</td>\n",
       "      <td>02460</td>\n",
       "    </tr>\n",
       "    <tr>\n",
       "      <th>4</th>\n",
       "      <td>5</td>\n",
       "      <td>M</td>\n",
       "      <td>25</td>\n",
       "      <td>20</td>\n",
       "      <td>55455</td>\n",
       "    </tr>\n",
       "  </tbody>\n",
       "</table>\n",
       "</div>"
      ],
      "text/plain": [
       "   UserID Gender  Age  Occupation Zip-code\n",
       "0       1      F    1          10    48067\n",
       "1       2      M   56          16    70072\n",
       "2       3      M   25          15    55117\n",
       "3       4      M   45           7    02460\n",
       "4       5      M   25          20    55455"
      ]
     },
     "execution_count": 243,
     "metadata": {},
     "output_type": "execute_result"
    }
   ],
   "source": [
    "# Users data\n",
    "users = pd.read_csv('ml-1m/users.dat', sep='::', engine='python', names=['UserID', 'Gender', 'Age', 'Occupation', 'Zip-code'])\n",
    "users.head()"
   ]
  },
  {
   "cell_type": "code",
   "execution_count": 244,
   "metadata": {},
   "outputs": [
    {
     "data": {
      "text/html": [
       "<div>\n",
       "<style scoped>\n",
       "    .dataframe tbody tr th:only-of-type {\n",
       "        vertical-align: middle;\n",
       "    }\n",
       "\n",
       "    .dataframe tbody tr th {\n",
       "        vertical-align: top;\n",
       "    }\n",
       "\n",
       "    .dataframe thead th {\n",
       "        text-align: right;\n",
       "    }\n",
       "</style>\n",
       "<table border=\"1\" class=\"dataframe\">\n",
       "  <thead>\n",
       "    <tr style=\"text-align: right;\">\n",
       "      <th></th>\n",
       "      <th>MovieID</th>\n",
       "      <th>Title</th>\n",
       "      <th>Genres</th>\n",
       "    </tr>\n",
       "  </thead>\n",
       "  <tbody>\n",
       "    <tr>\n",
       "      <th>0</th>\n",
       "      <td>1</td>\n",
       "      <td>Toy Story (1995)</td>\n",
       "      <td>Animation|Children's|Comedy</td>\n",
       "    </tr>\n",
       "    <tr>\n",
       "      <th>1</th>\n",
       "      <td>2</td>\n",
       "      <td>Jumanji (1995)</td>\n",
       "      <td>Adventure|Children's|Fantasy</td>\n",
       "    </tr>\n",
       "    <tr>\n",
       "      <th>2</th>\n",
       "      <td>3</td>\n",
       "      <td>Grumpier Old Men (1995)</td>\n",
       "      <td>Comedy|Romance</td>\n",
       "    </tr>\n",
       "    <tr>\n",
       "      <th>3</th>\n",
       "      <td>4</td>\n",
       "      <td>Waiting to Exhale (1995)</td>\n",
       "      <td>Comedy|Drama</td>\n",
       "    </tr>\n",
       "    <tr>\n",
       "      <th>4</th>\n",
       "      <td>5</td>\n",
       "      <td>Father of the Bride Part II (1995)</td>\n",
       "      <td>Comedy</td>\n",
       "    </tr>\n",
       "  </tbody>\n",
       "</table>\n",
       "</div>"
      ],
      "text/plain": [
       "   MovieID                               Title                        Genres\n",
       "0        1                    Toy Story (1995)   Animation|Children's|Comedy\n",
       "1        2                      Jumanji (1995)  Adventure|Children's|Fantasy\n",
       "2        3             Grumpier Old Men (1995)                Comedy|Romance\n",
       "3        4            Waiting to Exhale (1995)                  Comedy|Drama\n",
       "4        5  Father of the Bride Part II (1995)                        Comedy"
      ]
     },
     "execution_count": 244,
     "metadata": {},
     "output_type": "execute_result"
    }
   ],
   "source": [
    "# Movies data\n",
    "movies = pd.read_csv('ml-1m/movies.dat', sep='::', engine='python', names=['MovieID', 'Title', 'Genres'], encoding='ISO-8859-1')\n",
    "movies.head()"
   ]
  },
  {
   "cell_type": "code",
   "execution_count": 245,
   "metadata": {},
   "outputs": [
    {
     "name": "stdout",
     "output_type": "stream",
     "text": [
      "Number of ratings: 1000209\n",
      "Number of unique movieId's: 3706\n",
      "Number of unique users: 6040\n",
      "Average number of ratings per user: 165.6\n",
      "Average number of ratings per movie: 269.89\n"
     ]
    }
   ],
   "source": [
    "n_ratings = len(ratings)\n",
    "n_movies = ratings['MovieID'].nunique()\n",
    "n_users = ratings['UserID'].nunique()\n",
    "\n",
    "print(f\"Number of ratings: {n_ratings}\")\n",
    "print(f\"Number of unique movieId's: {n_movies}\")\n",
    "print(f\"Number of unique users: {n_users}\")\n",
    "print(f\"Average number of ratings per user: {round(n_ratings/n_users, 2)}\")\n",
    "print(f\"Average number of ratings per movie: {round(n_ratings/n_movies, 2)}\")"
   ]
  },
  {
   "cell_type": "markdown",
   "metadata": {},
   "source": [
    "## - Search for inconsistencies between datasets"
   ]
  },
  {
   "cell_type": "code",
   "execution_count": 246,
   "metadata": {},
   "outputs": [
    {
     "name": "stdout",
     "output_type": "stream",
     "text": [
      "Invalid MovieIDs (present in ratings but not in movies):\n",
      "None\n",
      "\n",
      "Number of invalid MovieIDs: 0\n"
     ]
    }
   ],
   "source": [
    "unique_moives_in_ratings = set(ratings['MovieID'].unique())\n",
    "unique_movies = set(movies['MovieID'].unique())\n",
    "\n",
    "invalid_movie_ids = unique_moives_in_ratings - unique_movies\n",
    "\n",
    "print(\"Invalid MovieIDs (present in ratings but not in movies):\")\n",
    "print(invalid_movie_ids if len(invalid_movie_ids) > 0 else \"None\")\n",
    "print(f\"\\nNumber of invalid MovieIDs: {len(invalid_movie_ids)}\")"
   ]
  },
  {
   "cell_type": "code",
   "execution_count": 247,
   "metadata": {},
   "outputs": [
    {
     "name": "stdout",
     "output_type": "stream",
     "text": [
      "Invalid UserIDs (present in ratings but not in users):\n",
      "None\n",
      "\n",
      "Number of invalid UserIDs: 0\n"
     ]
    }
   ],
   "source": [
    "unique_users_in_ratings = set(ratings['UserID'].unique())\n",
    "unique_users = set(users['UserID'].unique())\n",
    "\n",
    "invalid_user_ids = unique_users_in_ratings - unique_users\n",
    "\n",
    "print(\"Invalid UserIDs (present in ratings but not in users):\")\n",
    "print(invalid_user_ids if len(invalid_user_ids) > 0 else \"None\")\n",
    "print(f\"\\nNumber of invalid UserIDs: {len(invalid_user_ids)}\")"
   ]
  },
  {
   "cell_type": "code",
   "execution_count": 265,
   "metadata": {},
   "outputs": [
    {
     "name": "stdout",
     "output_type": "stream",
     "text": [
      "Unique movie IDs:  3883\n",
      "Unique movie titles:  3841\n"
     ]
    }
   ],
   "source": [
    "print('Unique movie IDs: ', len(movies['MovieID'].unique()))\n",
    "print('Unique movie titles: ', len(movies['Title'].unique()))"
   ]
  },
  {
   "cell_type": "markdown",
   "metadata": {},
   "source": [
    "## - Search for missing ratings"
   ]
  },
  {
   "cell_type": "code",
   "execution_count": 253,
   "metadata": {},
   "outputs": [
    {
     "data": {
      "text/html": [
       "<div>\n",
       "<style scoped>\n",
       "    .dataframe tbody tr th:only-of-type {\n",
       "        vertical-align: middle;\n",
       "    }\n",
       "\n",
       "    .dataframe tbody tr th {\n",
       "        vertical-align: top;\n",
       "    }\n",
       "\n",
       "    .dataframe thead th {\n",
       "        text-align: right;\n",
       "    }\n",
       "</style>\n",
       "<table border=\"1\" class=\"dataframe\">\n",
       "  <thead>\n",
       "    <tr style=\"text-align: right;\">\n",
       "      <th>MovieID</th>\n",
       "      <th>1</th>\n",
       "      <th>2</th>\n",
       "      <th>3</th>\n",
       "      <th>4</th>\n",
       "      <th>5</th>\n",
       "      <th>6</th>\n",
       "      <th>7</th>\n",
       "      <th>8</th>\n",
       "      <th>9</th>\n",
       "      <th>10</th>\n",
       "    </tr>\n",
       "    <tr>\n",
       "      <th>UserID</th>\n",
       "      <th></th>\n",
       "      <th></th>\n",
       "      <th></th>\n",
       "      <th></th>\n",
       "      <th></th>\n",
       "      <th></th>\n",
       "      <th></th>\n",
       "      <th></th>\n",
       "      <th></th>\n",
       "      <th></th>\n",
       "    </tr>\n",
       "  </thead>\n",
       "  <tbody>\n",
       "    <tr>\n",
       "      <th>1</th>\n",
       "      <td>5.0</td>\n",
       "      <td>NaN</td>\n",
       "      <td>NaN</td>\n",
       "      <td>NaN</td>\n",
       "      <td>NaN</td>\n",
       "      <td>NaN</td>\n",
       "      <td>NaN</td>\n",
       "      <td>NaN</td>\n",
       "      <td>NaN</td>\n",
       "      <td>NaN</td>\n",
       "    </tr>\n",
       "    <tr>\n",
       "      <th>2</th>\n",
       "      <td>NaN</td>\n",
       "      <td>NaN</td>\n",
       "      <td>NaN</td>\n",
       "      <td>NaN</td>\n",
       "      <td>NaN</td>\n",
       "      <td>NaN</td>\n",
       "      <td>NaN</td>\n",
       "      <td>NaN</td>\n",
       "      <td>NaN</td>\n",
       "      <td>NaN</td>\n",
       "    </tr>\n",
       "    <tr>\n",
       "      <th>3</th>\n",
       "      <td>NaN</td>\n",
       "      <td>NaN</td>\n",
       "      <td>NaN</td>\n",
       "      <td>NaN</td>\n",
       "      <td>NaN</td>\n",
       "      <td>NaN</td>\n",
       "      <td>NaN</td>\n",
       "      <td>NaN</td>\n",
       "      <td>NaN</td>\n",
       "      <td>NaN</td>\n",
       "    </tr>\n",
       "    <tr>\n",
       "      <th>4</th>\n",
       "      <td>NaN</td>\n",
       "      <td>NaN</td>\n",
       "      <td>NaN</td>\n",
       "      <td>NaN</td>\n",
       "      <td>NaN</td>\n",
       "      <td>NaN</td>\n",
       "      <td>NaN</td>\n",
       "      <td>NaN</td>\n",
       "      <td>NaN</td>\n",
       "      <td>NaN</td>\n",
       "    </tr>\n",
       "    <tr>\n",
       "      <th>5</th>\n",
       "      <td>NaN</td>\n",
       "      <td>NaN</td>\n",
       "      <td>NaN</td>\n",
       "      <td>NaN</td>\n",
       "      <td>NaN</td>\n",
       "      <td>2.0</td>\n",
       "      <td>NaN</td>\n",
       "      <td>NaN</td>\n",
       "      <td>NaN</td>\n",
       "      <td>NaN</td>\n",
       "    </tr>\n",
       "  </tbody>\n",
       "</table>\n",
       "</div>"
      ],
      "text/plain": [
       "MovieID   1   2   3   4   5    6   7   8   9   10\n",
       "UserID                                           \n",
       "1        5.0 NaN NaN NaN NaN  NaN NaN NaN NaN NaN\n",
       "2        NaN NaN NaN NaN NaN  NaN NaN NaN NaN NaN\n",
       "3        NaN NaN NaN NaN NaN  NaN NaN NaN NaN NaN\n",
       "4        NaN NaN NaN NaN NaN  NaN NaN NaN NaN NaN\n",
       "5        NaN NaN NaN NaN NaN  2.0 NaN NaN NaN NaN"
      ]
     },
     "execution_count": 253,
     "metadata": {},
     "output_type": "execute_result"
    }
   ],
   "source": [
    "# User-item interaction matrix\n",
    "user_item_matrix = ratings.pivot(index='UserID', columns='MovieID', values='Rating')\n",
    "\n",
    "user_item_matrix.iloc[:5, :10]"
   ]
  },
  {
   "cell_type": "code",
   "execution_count": 254,
   "metadata": {},
   "outputs": [
    {
     "name": "stdout",
     "output_type": "stream",
     "text": [
      "Total missing ratings: 21384031\n"
     ]
    }
   ],
   "source": [
    "missing_ratings_count = user_item_matrix.isna().sum().sum()\n",
    "print(f\"Total missing ratings: {missing_ratings_count}\")"
   ]
  },
  {
   "cell_type": "code",
   "execution_count": 255,
   "metadata": {},
   "outputs": [
    {
     "name": "stdout",
     "output_type": "stream",
     "text": [
      "Missing ratings (%): 95.53%\n"
     ]
    }
   ],
   "source": [
    "total_cells = user_item_matrix.size\n",
    "missing_percentage = (missing_ratings_count / total_cells) * 100\n",
    "print(f\"Missing ratings (%): {missing_percentage:.2f}%\")"
   ]
  },
  {
   "cell_type": "markdown",
   "metadata": {},
   "source": [
    "## - Distribution of movie ratings"
   ]
  },
  {
   "cell_type": "code",
   "execution_count": 256,
   "metadata": {},
   "outputs": [
    {
     "data": {
      "image/png": "[encoded data removed]",
      "text/plain": [
       "<Figure size 640x480 with 1 Axes>"
      ]
     },
     "metadata": {},
     "output_type": "display_data"
    }
   ],
   "source": [
    "rating_counts = ratings['Rating'].value_counts().sort_index()\n",
    "sns.barplot(x=rating_counts.index, y=rating_counts.values, hue=rating_counts.index, palette='flare')\n",
    "plt.title('Distribution of Ratings')\n",
    "plt.xlabel('Rating')\n",
    "plt.ylabel('Count')\n",
    "plt.show()"
   ]
  },
  {
   "cell_type": "markdown",
   "metadata": {},
   "source": [
    "## - Most and least rated movies"
   ]
  },
  {
   "cell_type": "code",
   "execution_count": 257,
   "metadata": {},
   "outputs": [
    {
     "data": {
      "image/png": "[encoded data removed]",
      "text/plain": [
       "<Figure size 800x400 with 1 Axes>"
      ]
     },
     "metadata": {},
     "output_type": "display_data"
    }
   ],
   "source": [
    "# Most rated movies\n",
    "most_rated_movies = ratings['MovieID'].value_counts()[:10]\n",
    "most_rated_movies = pd.DataFrame({'MovieID': most_rated_movies.index, 'RatingCount': most_rated_movies.values})\n",
    "most_rated_movies = pd.merge(most_rated_movies, movies, on='MovieID')\n",
    "most_rated_movies = most_rated_movies[['Title', 'RatingCount']]\n",
    "\n",
    "plt.figure(figsize=(8, 4))\n",
    "sns.barplot(x='RatingCount', y='Title', data=most_rated_movies, hue='Title', palette='flare')\n",
    "plt.title('Top 10 Most Rated Movies')\n",
    "plt.xlabel('Rating Count')\n",
    "plt.ylabel('Movie')\n",
    "plt.show()"
   ]
  },
  {
   "cell_type": "code",
   "execution_count": 258,
   "metadata": {},
   "outputs": [
    {
     "data": {
      "text/html": [
       "<div>\n",
       "<style scoped>\n",
       "    .dataframe tbody tr th:only-of-type {\n",
       "        vertical-align: middle;\n",
       "    }\n",
       "\n",
       "    .dataframe tbody tr th {\n",
       "        vertical-align: top;\n",
       "    }\n",
       "\n",
       "    .dataframe thead th {\n",
       "        text-align: right;\n",
       "    }\n",
       "</style>\n",
       "<table border=\"1\" class=\"dataframe\">\n",
       "  <thead>\n",
       "    <tr style=\"text-align: right;\">\n",
       "      <th></th>\n",
       "      <th>Title</th>\n",
       "      <th>RatingCount</th>\n",
       "    </tr>\n",
       "  </thead>\n",
       "  <tbody>\n",
       "    <tr>\n",
       "      <th>0</th>\n",
       "      <td>five wives, three secretaries and me</td>\n",
       "      <td>1</td>\n",
       "    </tr>\n",
       "    <tr>\n",
       "      <th>1</th>\n",
       "      <td>one little indian</td>\n",
       "      <td>1</td>\n",
       "    </tr>\n",
       "    <tr>\n",
       "      <th>2</th>\n",
       "      <td>white boys</td>\n",
       "      <td>1</td>\n",
       "    </tr>\n",
       "    <tr>\n",
       "      <th>3</th>\n",
       "      <td>broken vessels</td>\n",
       "      <td>1</td>\n",
       "    </tr>\n",
       "    <tr>\n",
       "      <th>4</th>\n",
       "      <td>aiqing wansui</td>\n",
       "      <td>1</td>\n",
       "    </tr>\n",
       "  </tbody>\n",
       "</table>\n",
       "</div>"
      ],
      "text/plain": [
       "                                  Title  RatingCount\n",
       "0  five wives, three secretaries and me            1\n",
       "1                     one little indian            1\n",
       "2                            white boys            1\n",
       "3                        broken vessels            1\n",
       "4                         aiqing wansui            1"
      ]
     },
     "execution_count": 258,
     "metadata": {},
     "output_type": "execute_result"
    }
   ],
   "source": [
    "# Least rated movies\n",
    "least_rated_movies = ratings['MovieID'].value_counts().sort_values()[:5]\n",
    "least_rated_movies = pd.DataFrame({'MovieID': least_rated_movies.index, 'RatingCount': least_rated_movies.values})\n",
    "least_rated_movies = pd.merge(least_rated_movies, movies, on='MovieID')\n",
    "least_rated_movies = least_rated_movies[['Title', 'RatingCount']]\n",
    "\n",
    "least_rated_movies"
   ]
  },
  {
   "cell_type": "markdown",
   "metadata": {},
   "source": [
    " ## - Most and least active users"
   ]
  },
  {
   "cell_type": "code",
   "execution_count": 259,
   "metadata": {},
   "outputs": [
    {
     "data": {
      "image/png": "[encoded data removed]",
      "text/plain": [
       "<Figure size 800x400 with 1 Axes>"
      ]
     },
     "metadata": {},
     "output_type": "display_data"
    }
   ],
   "source": [
    "# Most active users\n",
    "most_active_users = ratings['UserID'].value_counts()[:5]\n",
    "most_active_users = pd.DataFrame({'UserID': most_active_users.index, 'RatingCount': most_active_users.values})\n",
    "most_active_users = pd.merge(most_active_users, users, on='UserID')\n",
    "most_active_users = most_active_users[['UserID', 'RatingCount']]\n",
    "\n",
    "plt.figure(figsize=(8, 4))\n",
    "sns.barplot(x='RatingCount', y='UserID', data=most_active_users, hue='UserID', palette='flare')\n",
    "plt.title('Top 10 Most Active Users')\n",
    "plt.xlabel('Rating Count')\n",
    "plt.ylabel('User')\n",
    "plt.show()"
   ]
  },
  {
   "cell_type": "code",
   "execution_count": 260,
   "metadata": {},
   "outputs": [
    {
     "data": {
      "text/html": [
       "<div>\n",
       "<style scoped>\n",
       "    .dataframe tbody tr th:only-of-type {\n",
       "        vertical-align: middle;\n",
       "    }\n",
       "\n",
       "    .dataframe tbody tr th {\n",
       "        vertical-align: top;\n",
       "    }\n",
       "\n",
       "    .dataframe thead th {\n",
       "        text-align: right;\n",
       "    }\n",
       "</style>\n",
       "<table border=\"1\" class=\"dataframe\">\n",
       "  <thead>\n",
       "    <tr style=\"text-align: right;\">\n",
       "      <th></th>\n",
       "      <th>UserID</th>\n",
       "      <th>RatingCount</th>\n",
       "    </tr>\n",
       "  </thead>\n",
       "  <tbody>\n",
       "    <tr>\n",
       "      <th>0</th>\n",
       "      <td>2930</td>\n",
       "      <td>20</td>\n",
       "    </tr>\n",
       "    <tr>\n",
       "      <th>1</th>\n",
       "      <td>2819</td>\n",
       "      <td>20</td>\n",
       "    </tr>\n",
       "    <tr>\n",
       "      <th>2</th>\n",
       "      <td>2884</td>\n",
       "      <td>20</td>\n",
       "    </tr>\n",
       "    <tr>\n",
       "      <th>3</th>\n",
       "      <td>217</td>\n",
       "      <td>20</td>\n",
       "    </tr>\n",
       "    <tr>\n",
       "      <th>4</th>\n",
       "      <td>5725</td>\n",
       "      <td>20</td>\n",
       "    </tr>\n",
       "  </tbody>\n",
       "</table>\n",
       "</div>"
      ],
      "text/plain": [
       "   UserID  RatingCount\n",
       "0    2930           20\n",
       "1    2819           20\n",
       "2    2884           20\n",
       "3     217           20\n",
       "4    5725           20"
      ]
     },
     "execution_count": 260,
     "metadata": {},
     "output_type": "execute_result"
    }
   ],
   "source": [
    "# Least active users\n",
    "least_active_users = ratings['UserID'].value_counts().sort_values()[:5]\n",
    "least_active_users = pd.DataFrame({'UserID': least_active_users.index, 'RatingCount': least_active_users.values})\n",
    "least_active_users = pd.merge(least_active_users, users, on='UserID')\n",
    "least_active_users = least_active_users[['UserID', 'RatingCount']]\n",
    "\n",
    "least_active_users"
   ]
  },
  {
   "cell_type": "markdown",
   "metadata": {},
   "source": [
    "## - Best and worst rated movies"
   ]
  },
  {
   "cell_type": "code",
   "execution_count": 261,
   "metadata": {},
   "outputs": [
    {
     "data": {
      "text/html": [
       "<div>\n",
       "<style scoped>\n",
       "    .dataframe tbody tr th:only-of-type {\n",
       "        vertical-align: middle;\n",
       "    }\n",
       "\n",
       "    .dataframe tbody tr th {\n",
       "        vertical-align: top;\n",
       "    }\n",
       "\n",
       "    .dataframe thead th {\n",
       "        text-align: right;\n",
       "    }\n",
       "</style>\n",
       "<table border=\"1\" class=\"dataframe\">\n",
       "  <thead>\n",
       "    <tr style=\"text-align: right;\">\n",
       "      <th></th>\n",
       "      <th>Title</th>\n",
       "      <th>mean</th>\n",
       "      <th>count</th>\n",
       "    </tr>\n",
       "  </thead>\n",
       "  <tbody>\n",
       "    <tr>\n",
       "      <th>14</th>\n",
       "      <td>seven samurai (the magnificent seven) (shichin...</td>\n",
       "      <td>4.560510</td>\n",
       "      <td>628</td>\n",
       "    </tr>\n",
       "    <tr>\n",
       "      <th>15</th>\n",
       "      <td>shawshank redemption, the</td>\n",
       "      <td>4.554558</td>\n",
       "      <td>2227</td>\n",
       "    </tr>\n",
       "    <tr>\n",
       "      <th>16</th>\n",
       "      <td>godfather, the</td>\n",
       "      <td>4.524966</td>\n",
       "      <td>2223</td>\n",
       "    </tr>\n",
       "    <tr>\n",
       "      <th>17</th>\n",
       "      <td>close shave, a</td>\n",
       "      <td>4.520548</td>\n",
       "      <td>657</td>\n",
       "    </tr>\n",
       "    <tr>\n",
       "      <th>18</th>\n",
       "      <td>usual suspects, the</td>\n",
       "      <td>4.517106</td>\n",
       "      <td>1783</td>\n",
       "    </tr>\n",
       "    <tr>\n",
       "      <th>19</th>\n",
       "      <td>schindler's list</td>\n",
       "      <td>4.510417</td>\n",
       "      <td>2304</td>\n",
       "    </tr>\n",
       "    <tr>\n",
       "      <th>20</th>\n",
       "      <td>wrong trousers, the</td>\n",
       "      <td>4.507937</td>\n",
       "      <td>882</td>\n",
       "    </tr>\n",
       "  </tbody>\n",
       "</table>\n",
       "</div>"
      ],
      "text/plain": [
       "                                                Title      mean  count\n",
       "14  seven samurai (the magnificent seven) (shichin...  4.560510    628\n",
       "15                          shawshank redemption, the  4.554558   2227\n",
       "16                                     godfather, the  4.524966   2223\n",
       "17                                     close shave, a  4.520548    657\n",
       "18                                usual suspects, the  4.517106   1783\n",
       "19                                   schindler's list  4.510417   2304\n",
       "20                                wrong trousers, the  4.507937    882"
      ]
     },
     "execution_count": 261,
     "metadata": {},
     "output_type": "execute_result"
    }
   ],
   "source": [
    "# Best rated movies and rating count\n",
    "movie_ratings = ratings.groupby('MovieID')['Rating'].agg(['mean', 'count'])\n",
    "movie_ratings = movie_ratings.sort_values(by='mean', ascending=False)\n",
    "movie_ratings = pd.merge(movie_ratings, movies, on='MovieID')\n",
    "movie_ratings = movie_ratings[['Title', 'mean', 'count']]\n",
    "filtered_movies = movie_ratings[(movie_ratings['count'] > 260) & (movie_ratings['mean'] > 4.5)]\n",
    "\n",
    "filtered_movies"
   ]
  },
  {
   "cell_type": "code",
   "execution_count": 262,
   "metadata": {},
   "outputs": [
    {
     "data": {
      "text/html": [
       "<div>\n",
       "<style scoped>\n",
       "    .dataframe tbody tr th:only-of-type {\n",
       "        vertical-align: middle;\n",
       "    }\n",
       "\n",
       "    .dataframe tbody tr th {\n",
       "        vertical-align: top;\n",
       "    }\n",
       "\n",
       "    .dataframe thead th {\n",
       "        text-align: right;\n",
       "    }\n",
       "</style>\n",
       "<table border=\"1\" class=\"dataframe\">\n",
       "  <thead>\n",
       "    <tr style=\"text-align: right;\">\n",
       "      <th></th>\n",
       "      <th>Title</th>\n",
       "      <th>mean</th>\n",
       "      <th>count</th>\n",
       "    </tr>\n",
       "  </thead>\n",
       "  <tbody>\n",
       "    <tr>\n",
       "      <th>3648</th>\n",
       "      <td>battlefield earth</td>\n",
       "      <td>1.611111</td>\n",
       "      <td>342</td>\n",
       "    </tr>\n",
       "    <tr>\n",
       "      <th>3580</th>\n",
       "      <td>speed 2: cruise control</td>\n",
       "      <td>1.871935</td>\n",
       "      <td>367</td>\n",
       "    </tr>\n",
       "    <tr>\n",
       "      <th>3578</th>\n",
       "      <td>super mario bros.</td>\n",
       "      <td>1.874286</td>\n",
       "      <td>350</td>\n",
       "    </tr>\n",
       "    <tr>\n",
       "      <th>3574</th>\n",
       "      <td>superman iv: the quest for peace</td>\n",
       "      <td>1.888554</td>\n",
       "      <td>332</td>\n",
       "    </tr>\n",
       "    <tr>\n",
       "      <th>3554</th>\n",
       "      <td>grease 2</td>\n",
       "      <td>1.963696</td>\n",
       "      <td>303</td>\n",
       "    </tr>\n",
       "    <tr>\n",
       "      <th>3547</th>\n",
       "      <td>avengers, the</td>\n",
       "      <td>1.996528</td>\n",
       "      <td>288</td>\n",
       "    </tr>\n",
       "  </tbody>\n",
       "</table>\n",
       "</div>"
      ],
      "text/plain": [
       "                                 Title      mean  count\n",
       "3648                 battlefield earth  1.611111    342\n",
       "3580           speed 2: cruise control  1.871935    367\n",
       "3578                 super mario bros.  1.874286    350\n",
       "3574  superman iv: the quest for peace  1.888554    332\n",
       "3554                          grease 2  1.963696    303\n",
       "3547                     avengers, the  1.996528    288"
      ]
     },
     "execution_count": 262,
     "metadata": {},
     "output_type": "execute_result"
    }
   ],
   "source": [
    "# Worst rated movies and rating count\n",
    "movie_ratings = movie_ratings.sort_values(by='mean')\n",
    "movie_ratings[(movie_ratings['count'] > 260) & (movie_ratings['mean'] < 2.0)]"
   ]
  },
  {
   "cell_type": "markdown",
   "metadata": {},
   "source": [
    "# Types of Recommendation Engines\n",
    "## 1. Content-Based\n",
    "The Content-Based Recommender relies on the similarity of the items being recommended. The basic idea is that if you like an item, then you will also like a “similar” item. It generally works well when it's easy to determine the context/properties of each item.\n",
    "\n",
    "A content based recommender works with data that the user provides, either explicitly movie ratings for the MovieLens dataset. Based on that data, a user profile is generated, which is then used to make suggestions to the user. As the user provides more inputs or takes actions on the recommendations, the engine becomes more and more accurate.\n",
    "\n",
    "## 2. Collaborative Filtering\n",
    "The Collaborative Filtering Recommender is entirely based on the past behavior and not on the context. More specifically, it is based on the similarity in preferences, tastes and choices of two users. It analyses how similar the tastes of one user is to another and makes recommendations on the basis of that.\n",
    "\n",
    "For instance, if user A likes movies 1, 2, 3 and user B likes movies 2,3,4, then they have similar interests and A should like movie 4 and B should like movie 1. This makes it one of the most commonly used algorithm as it is not dependent on any additional information.\n",
    "\n",
    "In general, collaborative filtering is the workhorse of recommender engines. The algorithm has a very interesting property of being able to do feature learning on its own, which means that it can start to learn for itself what features to use. It can be divided into Memory-Based Collaborative Filtering and Model-Based Collaborative filtering. In this post, I'll only focus on the Memory-Based Collaborative Filtering technique.\n",
    "\n",
    "## Implementation\n",
    "With all that theory in mind, I am going to build a Content-Based Recommendation Engine that computes similarity between movies based on movie genres. It will suggest movies that are most similar to a particular movie based on its genre. To do so, I will make use of the file movies.csv.\n",
    "\n"
   ]
  },
  {
   "cell_type": "markdown",
   "metadata": {},
   "source": [
    "# 4- Model\n",
    "The steps in the model are as follows:\n",
    "\n",
    "1- Map user ID to a \"user vector\" via an embedding matrix\n",
    "\n",
    "2- Map movie ID to a \"movie vector\" via an embedding matrix\n",
    "\n",
    "3- Scale down the initial weights of the embedding layers\n",
    "\n",
    "4- Compute the dot product between the user vector and movie vector, to obtain the a match score between the user and the movie (predicted rating).\n",
    "\n",
    "5- Train the embeddings via gradient descent using all known user-movie pairs.\n",
    "\n",
    "This example demonstrates Collaborative filtering using the Movielens dataset to recommend movies to users. The MovieLens ratings dataset lists the ratings given by a set of users to a set of movies. Our goal is to be able to predict ratings for movies a user has not yet watched. The movies with the highest predicted ratings can then be recommended to the user."
   ]
  },
  {
   "cell_type": "markdown",
   "metadata": {},
   "source": [
    "Puedo pedirle a chatgpt actores y cosas sobre las peliculas como metadata para hacer un content based filtering"
   ]
  },
  {
   "cell_type": "markdown",
   "metadata": {},
   "source": []
  },
  {
   "cell_type": "markdown",
   "metadata": {},
   "source": [
    "https://chatgpt.com/c/67ddb5a0-1b7c-8004-be4d-10beedd0b285"
   ]
  },
  {
   "cell_type": "markdown",
   "metadata": {},
   "source": [
    "Github solving:\n",
    "https://github.com/rposhala/Recommender-System-on-MovieLens-dataset/blob/main/README.md#content-based-recommender-system\n",
    "\n",
    "En drive hay un collab de collavorative filtering y un doc con los pasos\n",
    "\n",
    "https://www.youtube.com/watch?v=e6kcs9Uj_ps\n",
    "\n",
    "\n",
    "FROM HERE THE CONTENT BASED:\n",
    "\n",
    "https://github.com/khanhnamle1994/movielens/blob/master/Content_Based_and_Collaborative_Filtering_Models.ipynb\n",
    "\n",
    "## FROM HERE THE DNN MODEL:\n",
    "\n",
    "https://github.com/rposhala/Recommender-System-on-MovieLens-dataset/blob/main/Recommender_System_using_Softmax_DNN.ipynb\n",
    "\n",
    "PERO OJO A ESTE COLLABORATIVE FILTERING:\n",
    "\n",
    "https://www.kaggle.com/code/sachinsarkar/movielens-movie-recommendation-system"
   ]
  },
  {
   "cell_type": "code",
   "execution_count": null,
   "metadata": {},
   "outputs": [],
   "source": [
    "/movie_recommendation_project\n",
    "│── main.ipynb               # Jupyter notebook for testing/training models\n",
    "│── data_preprocessing.py     # All preprocessing steps (used by both models)\n",
    "│── collaborative_filtering.py  # CF model implementation\n",
    "│── content_based.py          # Content-based model implementation\n",
    "│── evaluation.py             # Functions to evaluate both models\n",
    "│── utils.py                  # Helper functions (e.g., data loading, similarity metrics)\n",
    "│── /data                     # Raw & preprocessed datasets\n",
    "│── /models                   # Saved trained models\n",
    "│── /results                  # Output files, logs, plots"
   ]
  },
  {
   "cell_type": "markdown",
   "metadata": {},
   "source": [
    "CF: Recommendation System using Collaborative Filtering\n",
    "\n",
    "This Recommendation System will works like \"people who watching and like this movie also watch and like that movies\"."
   ]
  },
  {
   "cell_type": "markdown",
   "metadata": {},
   "source": [
    "Why Use Embeddings?\n",
    "\n",
    "Instead of representing users and movies as one-hot encoded vectors (which are sparse and high-dimensional), embeddings map them to a lower-dimensional space where similar users/movies have closer vector representations.\n",
    "\n",
    "A loss function (e.g., Mean Squared Error for rating prediction or Binary Cross-Entropy for implicit feedback) is used to update these embeddings during training\n"
   ]
  },
  {
   "cell_type": "markdown",
   "metadata": {},
   "source": [
    "Why Initialize Weights?\n",
    "\n",
    "Prevent Exploding or Vanishing Gradients\n",
    "\n",
    "Large initial values can lead to large activations, making gradients explode during backpropagation.\n",
    "\n",
    "Very small initial values (too close to zero) can lead to vanishing gradients, preventing learning."
   ]
  },
  {
   "cell_type": "markdown",
   "metadata": {},
   "source": [
    "Why separate the project in .py files and not do a ipynb"
   ]
  },
  {
   "cell_type": "markdown",
   "metadata": {},
   "source": [
    "Regression problems: Single output neuron for continuous values (e.g., predicting house prices).\n",
    "\n",
    "Classification problems: One neuron per class (e.g., binary or multi-class classification)."
   ]
  },
  {
   "cell_type": "markdown",
   "metadata": {},
   "source": [
    "Regression: 1 neuron, linear activation.\n",
    "\n",
    "Binary Classification: 1 neuron, sigmoid activation.\n",
    "\n",
    "Multi-Class Classification: Multiple neurons, softmax activation.\n"
   ]
  },
  {
   "cell_type": "markdown",
   "metadata": {},
   "source": [
    "The Softmax function transforms the output values into probabilities.\n",
    "\n",
    "It ensures that:\n",
    "\n",
    "All outputs are positive.\n",
    "\n",
    "They sum to 1 (making them interpretable as class probabilities).\n",
    "\n",
    "dim=1 applies softmax along the second dimension (batch dimension)."
   ]
  },
  {
   "cell_type": "markdown",
   "metadata": {},
   "source": []
  }
 ],
 "metadata": {
  "kernelspec": {
   "display_name": "myenv",
   "language": "python",
   "name": "python3"
  },
  "language_info": {
   "codemirror_mode": {
    "name": "ipython",
    "version": 3
   },
   "file_extension": ".py",
   "mimetype": "text/x-python",
   "name": "python",
   "nbconvert_exporter": "python",
   "pygments_lexer": "ipython3",
   "version": "3.12.3"
  }
 },
 "nbformat": 4,
 "nbformat_minor": 2
}
